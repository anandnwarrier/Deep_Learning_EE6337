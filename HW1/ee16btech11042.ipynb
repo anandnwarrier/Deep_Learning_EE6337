{
 "cells": [
  {
   "cell_type": "code",
   "execution_count": 1,
   "metadata": {},
   "outputs": [],
   "source": [
    "import numpy as np \n",
    "import matplotlib.pyplot as plt \n",
    "import PIL\n",
    "from PIL import Image\n",
    "from sklearn.utils import shuffle\n",
    "\n",
    "def ReLU(x):\n",
    "    x[x<0]=0\n",
    "    return x;\n",
    "\n",
    "def Sig(x):\n",
    "    return 1/(1+np.exp(-x))\n",
    "\n",
    "def SoftMax(x):\n",
    "    z=np.exp(x)\n",
    "    return z/np.sum(z)\n",
    "\n",
    "def dot(x,alpham,alpham0):\n",
    "    return (np.matmul(alpham.T,x)+alpham0)\n"
   ]
  },
  {
   "cell_type": "markdown",
   "metadata": {},
   "source": [
    "## Convolution function:-"
   ]
  },
  {
   "cell_type": "code",
   "execution_count": 2,
   "metadata": {},
   "outputs": [],
   "source": [
    "def convolution(img,L,filt,s,padding,func):\n",
    "    l=int(L/2) # half of L\n",
    "    X=np.asarray(img)\n",
    "    \n",
    "    u=np.shape(X)\n",
    "    if padding==1:\n",
    "        if len(u)==3:\n",
    "            X=np.pad(X,[(l,),(l,),(0,)],mode='constant')\n",
    "        else:\n",
    "            X=np.pad(X,[(l,),(l,)],mode='constant')\n",
    "    \n",
    "    \n",
    "    if len(u)==3:\n",
    "        m,n,d=np.shape(X)\n",
    "    else:\n",
    "        m,n=np.shape(X)\n",
    "\n",
    "    O=np.zeros((int((m-2*l)/s),int((n-2*l)/s)))\n",
    "    \n",
    "    # for each i,j consider the square of elements L*L around it, multiply pointwise wth the filter and add up.\n",
    "    for i in range(l,m-l,s):\n",
    "        for j in range(l,n-l,s):              \n",
    "            for k in range(i-l,i+l+1):\n",
    "                for p in range(j-l,j+l+1):\n",
    "                    if len(u)==3:\n",
    "                        if len(np.shape(filt))==3:\n",
    "                            for q in range(d):\n",
    "                                O[int((i-l+1)/s)-1][int((j-l+1)/s)-1]+=X[k][p][q]*filt[k-i+l][p-j+l][q]\n",
    "                        else:\n",
    "                            for q in range(d):\n",
    "                                O[int((i-l+1)/s)-1][int((j-l+1)/s)-1]+=X[k][p][q]*filt[k-i+l][p-j+l]\n",
    "                    else:\n",
    "                        O[int((i-l+1)/s)-1][int((j-l+1)/s)-1]+=X[k][p]*filt[k-i+l][p-j+l]\n",
    "\n",
    "                        \n",
    "    if func=='ReLU':\n",
    "        O=ReLU(O)\n",
    "    elif func=='Sig':\n",
    "        O=Sig(O)\n",
    "\n",
    "    return O"
   ]
  },
  {
   "cell_type": "markdown",
   "metadata": {},
   "source": [
    "## Pooling function:-"
   ]
  },
  {
   "cell_type": "code",
   "execution_count": 3,
   "metadata": {},
   "outputs": [],
   "source": [
    "def pooling(conv_act_map_out,L,s,padding,pool):\n",
    "    l=int(L/2) # half of the dimension of the pooling filter\n",
    "    X=conv_act_map_out\n",
    "    if padding==1:\n",
    "        X=np.pad(X,[(l,),(l,)],mode='constant')\n",
    "        \n",
    "    m,n=np.shape(X)\n",
    "\n",
    "    O=np.zeros((int((m-2*l)/s),int((n-2*l)/s)))\n",
    "    \n",
    "    max_val=0\n",
    "    \n",
    "    for i in range(l,m-l,s):\n",
    "        for j in range(l,n-l,s):\n",
    "            for k in range(i-l,i+l+1):\n",
    "                for p in range(j-l,j+l+1):\n",
    "                    if pool=='Max':\n",
    "                        if max_val<X[k][p]:\n",
    "                             O[int((i-l+1)/s)-1][int((j-l+1)/s)-1]=X[k][p]\n",
    "                    elif pool=='Avg':\n",
    "                         O[int((i-l+1)/s)-1][int((j-l+1)/s)-1]+=X[k][p]/float(L*L)\n",
    "                        \n",
    "    return O\n",
    "                        \n",
    "                        \n",
    "    "
   ]
  },
  {
   "cell_type": "markdown",
   "metadata": {},
   "source": [
    "## Convolution layer function:-"
   ]
  },
  {
   "cell_type": "code",
   "execution_count": 4,
   "metadata": {},
   "outputs": [],
   "source": [
    "def conv_layer(img,L,filters,s,padding,func,no_of_filters):\n",
    "    out=[]\n",
    "    for i in range(no_of_filters):\n",
    "        out.append(convolution(img,L,filters[i],s,padding,func))\n",
    "    out=np.array(out)\n",
    "    return out"
   ]
  },
  {
   "cell_type": "markdown",
   "metadata": {},
   "source": [
    "## Pooling volume function:-"
   ]
  },
  {
   "cell_type": "code",
   "execution_count": 5,
   "metadata": {},
   "outputs": [],
   "source": [
    "def pool_layer(act_map_volume,L,s,padding,pool):\n",
    "    out=[]\n",
    "    for i in range(len(act_map_volume)):\n",
    "        out.append(pooling(act_map_volume[i,:,:],L,s,padding,pool))\n",
    "    return out\n"
   ]
  },
  {
   "cell_type": "markdown",
   "metadata": {},
   "source": [
    "## Composition of layers:-"
   ]
  },
  {
   "cell_type": "code",
   "execution_count": 6,
   "metadata": {},
   "outputs": [],
   "source": [
    "def composition_of_layers(im,order_of_layers,conv_filter_sizes,pool_filter_sizes,stride_order,pad_order,pool_type_order,filters_per_layer,filters,act_order):\n",
    "    X=np.asarray(im)\n",
    "    k=0\n",
    "    j=0\n",
    "    for i in range(len(order_of_layers)):\n",
    "        if order_of_layers[i]=='conv':\n",
    "            if k!=0:\n",
    "                X=np.swapaxes(X,0,2)\n",
    "            imageX=Image.fromarray(X,'RGB')\n",
    "            X=conv_layer(imageX,L=conv_filter_sizes[k],filters=filters[k],s=stride_order[i],padding=pad_order[i],func=act_order[k],no_of_filters=filters_per_layer[k])\n",
    "            k+=1\n",
    "            X=np.array(X)\n",
    "            print('After',i+1,'th Convolution:\\n',np.shape(X))\n",
    "            for i in range(len(X)):\n",
    "                out_im=Image.fromarray(X[i])\n",
    "                plt.imshow(out_im)\n",
    "                plt.show()\n",
    "            print('\\n\\n')\n",
    "        elif order_of_layers[i]=='pool':\n",
    "            X=pool_layer(X,L=pool_filter_sizes[j],s=stride_order[i],padding=pad_order[i],pool=pool_type_order[j])\n",
    "            j+=1\n",
    "            X=np.array(X)\n",
    "            print('After',i+1,'th Pooling:\\n',np.shape(X))\n",
    "            for i in range(len(X)):\n",
    "                out_im=Image.fromarray(X[i])\n",
    "                plt.imshow(out_im)\n",
    "                plt.show()\n",
    "            print('\\n\\n')\n",
    "            \n",
    "    return X"
   ]
  },
  {
   "cell_type": "markdown",
   "metadata": {},
   "source": [
    "## Unravelling function:-"
   ]
  },
  {
   "cell_type": "code",
   "execution_count": 7,
   "metadata": {},
   "outputs": [],
   "source": [
    "def unravelling(comp_layer_out,out_dim):\n",
    "    X=comp_layer_out.flatten()\n",
    "    s=np.shape(X)\n",
    "    s=[s[0],out_dim]\n",
    "    r=np.random.normal(0,0.01,s)\n",
    "    out=np.dot(X,r)\n",
    "    return out"
   ]
  },
  {
   "cell_type": "markdown",
   "metadata": {},
   "source": [
    "## Loading the data"
   ]
  },
  {
   "cell_type": "code",
   "execution_count": 8,
   "metadata": {},
   "outputs": [
    {
     "name": "stdout",
     "output_type": "stream",
     "text": [
      "WARNING:tensorflow:From <ipython-input-8-55fd350e0153>:4: read_data_sets (from tensorflow.contrib.learn.python.learn.datasets.mnist) is deprecated and will be removed in a future version.\n",
      "Instructions for updating:\n",
      "Please use alternatives such as official/mnist/dataset.py from tensorflow/models.\n",
      "WARNING:tensorflow:From /usr/local/lib/python3.4/dist-packages/tensorflow/contrib/learn/python/learn/datasets/mnist.py:260: maybe_download (from tensorflow.contrib.learn.python.learn.datasets.base) is deprecated and will be removed in a future version.\n",
      "Instructions for updating:\n",
      "Please write your own downloading logic.\n",
      "WARNING:tensorflow:From /usr/local/lib/python3.4/dist-packages/tensorflow/contrib/learn/python/learn/datasets/mnist.py:262: extract_images (from tensorflow.contrib.learn.python.learn.datasets.mnist) is deprecated and will be removed in a future version.\n",
      "Instructions for updating:\n",
      "Please use tf.data to implement this functionality.\n",
      "Extracting MNIST_data/train-images-idx3-ubyte.gz\n",
      "WARNING:tensorflow:From /usr/local/lib/python3.4/dist-packages/tensorflow/contrib/learn/python/learn/datasets/mnist.py:267: extract_labels (from tensorflow.contrib.learn.python.learn.datasets.mnist) is deprecated and will be removed in a future version.\n",
      "Instructions for updating:\n",
      "Please use tf.data to implement this functionality.\n",
      "Extracting MNIST_data/train-labels-idx1-ubyte.gz\n",
      "WARNING:tensorflow:From /usr/local/lib/python3.4/dist-packages/tensorflow/contrib/learn/python/learn/datasets/mnist.py:110: dense_to_one_hot (from tensorflow.contrib.learn.python.learn.datasets.mnist) is deprecated and will be removed in a future version.\n",
      "Instructions for updating:\n",
      "Please use tf.one_hot on tensors.\n",
      "Extracting MNIST_data/t10k-images-idx3-ubyte.gz\n",
      "Extracting MNIST_data/t10k-labels-idx1-ubyte.gz\n",
      "WARNING:tensorflow:From /usr/local/lib/python3.4/dist-packages/tensorflow/contrib/learn/python/learn/datasets/mnist.py:290: DataSet.__init__ (from tensorflow.contrib.learn.python.learn.datasets.mnist) is deprecated and will be removed in a future version.\n",
      "Instructions for updating:\n",
      "Please use alternatives such as official/mnist/dataset.py from tensorflow/models.\n"
     ]
    }
   ],
   "source": [
    "import numpy as np\n",
    "from tensorflow.examples.tutorials.mnist import input_data\n",
    "\n",
    "mnist = input_data.read_data_sets(\"MNIST_data/\", one_hot=True)\n",
    "Xtrain = np.vstack([img.reshape((28, 28)) for img in mnist.train.images])\n",
    "ytrain = mnist.train.labels\n",
    "Xtest = np.vstack([img.reshape(28, 28) for img in mnist.test.images])\n",
    "ytest = mnist.test.labels\n",
    "del mnist"
   ]
  },
  {
   "cell_type": "markdown",
   "metadata": {},
   "source": [
    "## Reshaping"
   ]
  },
  {
   "cell_type": "code",
   "execution_count": 9,
   "metadata": {
    "scrolled": true
   },
   "outputs": [
    {
     "name": "stdout",
     "output_type": "stream",
     "text": [
      "(55000, 28, 28)\n"
     ]
    },
    {
     "data": {
      "image/png": "[encoded data removed]",
      "text/plain": [
       "<Figure size 432x288 with 1 Axes>"
      ]
     },
     "metadata": {
      "needs_background": "light"
     },
     "output_type": "display_data"
    },
    {
     "name": "stdout",
     "output_type": "stream",
     "text": [
      "(28, 28) 2 [0. 0. 0. ... 0. 0. 0.]\n",
      "(10000, 28, 28)\n"
     ]
    },
    {
     "data": {
      "image/png": "[encoded data removed]",
      "text/plain": [
       "<Figure size 432x288 with 1 Axes>"
      ]
     },
     "metadata": {
      "needs_background": "light"
     },
     "output_type": "display_data"
    },
    {
     "name": "stdout",
     "output_type": "stream",
     "text": [
      "(28, 28) 2 [0. 0. 0. ... 0. 0. 0.]\n"
     ]
    }
   ],
   "source": [
    "Xtrain=np.reshape(Xtrain,(55000,28,28))\n",
    "print(np.shape(Xtrain))\n",
    "plt.imshow(Xtrain[0],cmap=plt.cm.binary)\n",
    "plt.show()\n",
    "x=np.shape(Xtrain[0])\n",
    "print(x,len(x),ytrain[:,0])\n",
    "\n",
    "Xtest=np.reshape(Xtest,(10000,28,28))\n",
    "print(np.shape(Xtest))\n",
    "plt.imshow(Xtest[0],cmap=plt.cm.binary)\n",
    "plt.show()\n",
    "x=np.shape(Xtest[0])\n",
    "print(x,len(x),ytest[:,0])"
   ]
  },
  {
   "cell_type": "code",
   "execution_count": 10,
   "metadata": {},
   "outputs": [],
   "source": [
    "def SoftMax(x):\n",
    "    ex=np.exp(x)\n",
    "    return ex/ex.sum()\n",
    "\n",
    "def dsig(x):\n",
    "    return (Sig(x)-Sig(x)**2)\n",
    "\n",
    "def der_SoftMax(x):\n",
    "    s=x.reshape(-1,1)\n",
    "    return np.diagflat(s)-np.dot(s,s.T)"
   ]
  },
  {
   "cell_type": "code",
   "execution_count": 11,
   "metadata": {},
   "outputs": [],
   "source": [
    "def MLP_fwd_pass(x,alpham,alpham0,betam,betam0):\n",
    "    out1=np.dot(x,alpham,alpham0)\n",
    "    z=Sig(out1)\n",
    "    out2=np.dot(z,betam,betam0)\n",
    "    y=SoftMax(out2)\n",
    "    return z,out2,y\n"
   ]
  },
  {
   "cell_type": "markdown",
   "metadata": {},
   "source": [
    "Loss=summation from i=1 to n (-y*log(y'))\n",
    "dLoss/dx =-y/y' *dy'/dx"
   ]
  },
  {
   "cell_type": "markdown",
   "metadata": {},
   "source": [
    "## Backpropogation using stochastic gradient approach"
   ]
  },
  {
   "cell_type": "code",
   "execution_count": 12,
   "metadata": {
    "scrolled": true
   },
   "outputs": [
    {
     "name": "stdout",
     "output_type": "stream",
     "text": [
      "(28, 28)\n"
     ]
    },
    {
     "data": {
      "image/png": "[encoded data removed]",
      "text/plain": [
       "<Figure size 432x288 with 1 Axes>"
      ]
     },
     "metadata": {
      "needs_background": "light"
     },
     "output_type": "display_data"
    },
    {
     "name": "stdout",
     "output_type": "stream",
     "text": [
      "(32, 14, 14)\n",
      "(32, 7, 7)\n",
      "(7, 7, 32)\n",
      "(64, 3, 3)\n",
      "(64, 1, 1)\n",
      "(10, 55000)\n",
      "o2 (14, 14, 32)\n",
      "i (28, 28)\n",
      "o3 (7, 7, 32)\n",
      "o4 (3, 3, 64)\n",
      "(10,) (10,)\n",
      "(28, 28)\n"
     ]
    },
    {
     "data": {
      "image/png": "[encoded data removed]",
      "text/plain": [
       "<Figure size 432x288 with 1 Axes>"
      ]
     },
     "metadata": {
      "needs_background": "light"
     },
     "output_type": "display_data"
    },
    {
     "name": "stdout",
     "output_type": "stream",
     "text": [
      "(32, 14, 14)\n",
      "(32, 7, 7)\n",
      "(7, 7, 32)\n",
      "(64, 3, 3)\n",
      "(64, 1, 1)\n",
      "(55000, 10)\n",
      "o2 (14, 14, 32)\n",
      "i (28, 28)\n",
      "o3 (7, 7, 32)\n",
      "o4 (3, 3, 64)\n",
      "(10,) (10,)\n",
      "(28, 28)\n"
     ]
    },
    {
     "data": {
      "image/png": "[encoded data removed]",
      "text/plain": [
       "<Figure size 432x288 with 1 Axes>"
      ]
     },
     "metadata": {
      "needs_background": "light"
     },
     "output_type": "display_data"
    },
    {
     "name": "stdout",
     "output_type": "stream",
     "text": [
      "(32, 14, 14)\n",
      "(32, 7, 7)\n",
      "(7, 7, 32)\n",
      "(64, 3, 3)\n",
      "(64, 1, 1)\n",
      "(10, 55000)\n",
      "o2 (14, 14, 32)\n",
      "i (28, 28)\n",
      "o3 (7, 7, 32)\n",
      "o4 (3, 3, 64)\n",
      "(10,) (10,)\n",
      "(28, 28)\n"
     ]
    },
    {
     "data": {
      "image/png": "[encoded data removed]",
      "text/plain": [
       "<Figure size 432x288 with 1 Axes>"
      ]
     },
     "metadata": {
      "needs_background": "light"
     },
     "output_type": "display_data"
    },
    {
     "name": "stdout",
     "output_type": "stream",
     "text": [
      "(32, 14, 14)\n",
      "(32, 7, 7)\n",
      "(7, 7, 32)\n",
      "(64, 3, 3)\n",
      "(64, 1, 1)\n",
      "(55000, 10)\n",
      "o2 (14, 14, 32)\n",
      "i (28, 28)\n",
      "o3 (7, 7, 32)\n",
      "o4 (3, 3, 64)\n",
      "(10,) (10,)\n",
      "(28, 28)\n"
     ]
    },
    {
     "data": {
      "image/png": "[encoded data removed]",
      "text/plain": [
       "<Figure size 432x288 with 1 Axes>"
      ]
     },
     "metadata": {
      "needs_background": "light"
     },
     "output_type": "display_data"
    },
    {
     "name": "stdout",
     "output_type": "stream",
     "text": [
      "(32, 14, 14)\n",
      "(32, 7, 7)\n",
      "(7, 7, 32)\n",
      "(64, 3, 3)\n",
      "(64, 1, 1)\n",
      "(10, 55000)\n",
      "o2 (14, 14, 32)\n",
      "i (28, 28)\n",
      "o3 (7, 7, 32)\n",
      "o4 (3, 3, 64)\n",
      "(10,) (10,)\n",
      "(28, 28)\n"
     ]
    },
    {
     "data": {
      "image/png": "[encoded data removed]",
      "text/plain": [
       "<Figure size 432x288 with 1 Axes>"
      ]
     },
     "metadata": {
      "needs_background": "light"
     },
     "output_type": "display_data"
    },
    {
     "name": "stdout",
     "output_type": "stream",
     "text": [
      "(32, 14, 14)\n",
      "(32, 7, 7)\n",
      "(7, 7, 32)\n",
      "(64, 3, 3)\n",
      "(64, 1, 1)\n",
      "(55000, 10)\n",
      "o2 (14, 14, 32)\n",
      "i (28, 28)\n",
      "o3 (7, 7, 32)\n",
      "o4 (3, 3, 64)\n",
      "(10,) (10,)\n",
      "(28, 28)\n"
     ]
    },
    {
     "data": {
      "image/png": "[encoded data removed]",
      "text/plain": [
       "<Figure size 432x288 with 1 Axes>"
      ]
     },
     "metadata": {
      "needs_background": "light"
     },
     "output_type": "display_data"
    },
    {
     "name": "stdout",
     "output_type": "stream",
     "text": [
      "(32, 14, 14)\n",
      "(32, 7, 7)\n",
      "(7, 7, 32)\n",
      "(64, 3, 3)\n",
      "(64, 1, 1)\n",
      "(10, 55000)\n",
      "o2 (14, 14, 32)\n",
      "i (28, 28)\n",
      "o3 (7, 7, 32)\n",
      "o4 (3, 3, 64)\n",
      "(10,) (10,)\n",
      "(28, 28)\n"
     ]
    },
    {
     "data": {
      "image/png": "[encoded data removed]",
      "text/plain": [
       "<Figure size 432x288 with 1 Axes>"
      ]
     },
     "metadata": {
      "needs_background": "light"
     },
     "output_type": "display_data"
    },
    {
     "name": "stdout",
     "output_type": "stream",
     "text": [
      "(32, 14, 14)\n",
      "(32, 7, 7)\n",
      "(7, 7, 32)\n",
      "(64, 3, 3)\n",
      "(64, 1, 1)\n",
      "(10, 55000)\n",
      "o2 (14, 14, 32)\n",
      "i (28, 28)\n",
      "o3 (7, 7, 32)\n",
      "o4 (3, 3, 64)\n",
      "(10,) (10,)\n",
      "(28, 28)\n"
     ]
    },
    {
     "data": {
      "image/png": "[encoded data removed]",
      "text/plain": [
       "<Figure size 432x288 with 1 Axes>"
      ]
     },
     "metadata": {
      "needs_background": "light"
     },
     "output_type": "display_data"
    },
    {
     "name": "stdout",
     "output_type": "stream",
     "text": [
      "(32, 14, 14)\n",
      "(32, 7, 7)\n",
      "(7, 7, 32)\n",
      "(64, 3, 3)\n",
      "(64, 1, 1)\n",
      "(55000, 10)\n",
      "o2 (14, 14, 32)\n",
      "i (28, 28)\n",
      "o3 (7, 7, 32)\n",
      "o4 (3, 3, 64)\n",
      "(10,) (10,)\n",
      "(28, 28)\n"
     ]
    },
    {
     "data": {
      "image/png": "[encoded data removed]",
      "text/plain": [
       "<Figure size 432x288 with 1 Axes>"
      ]
     },
     "metadata": {
      "needs_background": "light"
     },
     "output_type": "display_data"
    },
    {
     "name": "stdout",
     "output_type": "stream",
     "text": [
      "(32, 14, 14)\n",
      "(32, 7, 7)\n",
      "(7, 7, 32)\n",
      "(64, 3, 3)\n",
      "(64, 1, 1)\n",
      "(10, 55000)\n",
      "o2 (14, 14, 32)\n",
      "i (28, 28)\n",
      "o3 (7, 7, 32)\n",
      "o4 (3, 3, 64)\n",
      "(10,) (10,)\n",
      "(28, 28)\n"
     ]
    },
    {
     "data": {
      "image/png": "[encoded data removed]",
      "text/plain": [
       "<Figure size 432x288 with 1 Axes>"
      ]
     },
     "metadata": {
      "needs_background": "light"
     },
     "output_type": "display_data"
    },
    {
     "name": "stdout",
     "output_type": "stream",
     "text": [
      "(32, 14, 14)\n",
      "(32, 7, 7)\n",
      "(7, 7, 32)\n",
      "(64, 3, 3)\n",
      "(64, 1, 1)\n",
      "(55000, 10)\n",
      "o2 (14, 14, 32)\n",
      "i (28, 28)\n",
      "o3 (7, 7, 32)\n",
      "o4 (3, 3, 64)\n",
      "(10,) (10,)\n",
      "(28, 28)\n"
     ]
    },
    {
     "data": {
      "image/png": "[encoded data removed]",
      "text/plain": [
       "<Figure size 432x288 with 1 Axes>"
      ]
     },
     "metadata": {
      "needs_background": "light"
     },
     "output_type": "display_data"
    },
    {
     "name": "stdout",
     "output_type": "stream",
     "text": [
      "(32, 14, 14)\n",
      "(32, 7, 7)\n",
      "(7, 7, 32)\n",
      "(64, 3, 3)\n",
      "(64, 1, 1)\n",
      "(10, 55000)\n",
      "o2 (14, 14, 32)\n",
      "i (28, 28)\n",
      "o3 (7, 7, 32)\n",
      "o4 (3, 3, 64)\n",
      "(10,) (10,)\n",
      "(28, 28)\n"
     ]
    },
    {
     "data": {
      "image/png": "[encoded data removed]",
      "text/plain": [
       "<Figure size 432x288 with 1 Axes>"
      ]
     },
     "metadata": {
      "needs_background": "light"
     },
     "output_type": "display_data"
    },
    {
     "name": "stdout",
     "output_type": "stream",
     "text": [
      "(32, 14, 14)\n",
      "(32, 7, 7)\n",
      "(7, 7, 32)\n",
      "(64, 3, 3)\n",
      "(64, 1, 1)\n",
      "(55000, 10)\n",
      "o2 (14, 14, 32)\n",
      "i (28, 28)\n",
      "o3 (7, 7, 32)\n",
      "o4 (3, 3, 64)\n",
      "(10,) (10,)\n",
      "(28, 28)\n"
     ]
    },
    {
     "data": {
      "image/png": "[encoded data removed]",
      "text/plain": [
       "<Figure size 432x288 with 1 Axes>"
      ]
     },
     "metadata": {
      "needs_background": "light"
     },
     "output_type": "display_data"
    },
    {
     "name": "stdout",
     "output_type": "stream",
     "text": [
      "(32, 14, 14)\n",
      "(32, 7, 7)\n",
      "(7, 7, 32)\n",
      "(64, 3, 3)\n",
      "(64, 1, 1)\n",
      "(10, 55000)\n",
      "o2 (14, 14, 32)\n",
      "i (28, 28)\n",
      "o3 (7, 7, 32)\n",
      "o4 (3, 3, 64)\n",
      "(10,) (10,)\n",
      "(28, 28)\n"
     ]
    },
    {
     "data": {
      "image/png": "[encoded data removed]",
      "text/plain": [
       "<Figure size 432x288 with 1 Axes>"
      ]
     },
     "metadata": {
      "needs_background": "light"
     },
     "output_type": "display_data"
    },
    {
     "name": "stdout",
     "output_type": "stream",
     "text": [
      "(32, 14, 14)\n",
      "(32, 7, 7)\n",
      "(7, 7, 32)\n",
      "(64, 3, 3)\n",
      "(64, 1, 1)\n",
      "(10, 55000)\n",
      "o2 (14, 14, 32)\n",
      "i (28, 28)\n",
      "o3 (7, 7, 32)\n",
      "o4 (3, 3, 64)\n",
      "(10,) (10,)\n",
      "(28, 28)\n"
     ]
    },
    {
     "data": {
      "image/png": "[encoded data removed]",
      "text/plain": [
       "<Figure size 432x288 with 1 Axes>"
      ]
     },
     "metadata": {
      "needs_background": "light"
     },
     "output_type": "display_data"
    },
    {
     "name": "stdout",
     "output_type": "stream",
     "text": [
      "(32, 14, 14)\n",
      "(32, 7, 7)\n",
      "(7, 7, 32)\n",
      "(64, 3, 3)\n",
      "(64, 1, 1)\n",
      "(55000, 10)\n",
      "o2 (14, 14, 32)\n",
      "i (28, 28)\n",
      "o3 (7, 7, 32)\n",
      "o4 (3, 3, 64)\n",
      "(10,) (10,)\n",
      "(28, 28)\n"
     ]
    },
    {
     "data": {
      "image/png": "[encoded data removed]",
      "text/plain": [
       "<Figure size 432x288 with 1 Axes>"
      ]
     },
     "metadata": {
      "needs_background": "light"
     },
     "output_type": "display_data"
    },
    {
     "name": "stdout",
     "output_type": "stream",
     "text": [
      "(32, 14, 14)\n",
      "(32, 7, 7)\n",
      "(7, 7, 32)\n",
      "(64, 3, 3)\n",
      "(64, 1, 1)\n",
      "(10, 55000)\n",
      "o2 (14, 14, 32)\n",
      "i (28, 28)\n",
      "o3 (7, 7, 32)\n",
      "o4 (3, 3, 64)\n",
      "(10,) (10,)\n",
      "(28, 28)\n"
     ]
    },
    {
     "data": {
      "image/png": "[encoded data removed]",
      "text/plain": [
       "<Figure size 432x288 with 1 Axes>"
      ]
     },
     "metadata": {
      "needs_background": "light"
     },
     "output_type": "display_data"
    },
    {
     "name": "stdout",
     "output_type": "stream",
     "text": [
      "(32, 14, 14)\n",
      "(32, 7, 7)\n",
      "(7, 7, 32)\n",
      "(64, 3, 3)\n",
      "(64, 1, 1)\n",
      "(55000, 10)\n",
      "o2 (14, 14, 32)\n",
      "i (28, 28)\n",
      "o3 (7, 7, 32)\n",
      "o4 (3, 3, 64)\n",
      "(10,) (10,)\n",
      "(28, 28)\n"
     ]
    },
    {
     "data": {
      "image/png": "[encoded data removed]",
      "text/plain": [
       "<Figure size 432x288 with 1 Axes>"
      ]
     },
     "metadata": {
      "needs_background": "light"
     },
     "output_type": "display_data"
    },
    {
     "name": "stdout",
     "output_type": "stream",
     "text": [
      "(32, 14, 14)\n",
      "(32, 7, 7)\n",
      "(7, 7, 32)\n",
      "(64, 3, 3)\n",
      "(64, 1, 1)\n",
      "(10, 55000)\n",
      "o2 (14, 14, 32)\n",
      "i (28, 28)\n",
      "o3 (7, 7, 32)\n",
      "o4 (3, 3, 64)\n",
      "(10,) (10,)\n",
      "(28, 28)\n"
     ]
    },
    {
     "data": {
      "image/png": "[encoded data removed]",
      "text/plain": [
       "<Figure size 432x288 with 1 Axes>"
      ]
     },
     "metadata": {
      "needs_background": "light"
     },
     "output_type": "display_data"
    },
    {
     "name": "stdout",
     "output_type": "stream",
     "text": [
      "(32, 14, 14)\n",
      "(32, 7, 7)\n",
      "(7, 7, 32)\n",
      "(64, 3, 3)\n",
      "(64, 1, 1)\n",
      "(55000, 10)\n",
      "o2 (14, 14, 32)\n",
      "i (28, 28)\n",
      "o3 (7, 7, 32)\n",
      "o4 (3, 3, 64)\n",
      "(10,) (10,)\n",
      "(28, 28)\n"
     ]
    },
    {
     "data": {
      "image/png": "[encoded data removed]",
      "text/plain": [
       "<Figure size 432x288 with 1 Axes>"
      ]
     },
     "metadata": {
      "needs_background": "light"
     },
     "output_type": "display_data"
    },
    {
     "name": "stdout",
     "output_type": "stream",
     "text": [
      "(32, 14, 14)\n",
      "(32, 7, 7)\n",
      "(7, 7, 32)\n",
      "(64, 3, 3)\n",
      "(64, 1, 1)\n",
      "(10, 55000)\n",
      "o2 (14, 14, 32)\n",
      "i (28, 28)\n",
      "o3 (7, 7, 32)\n",
      "o4 (3, 3, 64)\n",
      "(10,) (10,)\n",
      "(28, 28)\n"
     ]
    },
    {
     "data": {
      "image/png": "[encoded data removed]",
      "text/plain": [
       "<Figure size 432x288 with 1 Axes>"
      ]
     },
     "metadata": {
      "needs_background": "light"
     },
     "output_type": "display_data"
    },
    {
     "name": "stdout",
     "output_type": "stream",
     "text": [
      "(32, 14, 14)\n",
      "(32, 7, 7)\n",
      "(7, 7, 32)\n",
      "(64, 3, 3)\n",
      "(64, 1, 1)\n",
      "(10, 55000)\n",
      "o2 (14, 14, 32)\n",
      "i (28, 28)\n",
      "o3 (7, 7, 32)\n",
      "o4 (3, 3, 64)\n",
      "(10,) (10,)\n",
      "(28, 28)\n"
     ]
    },
    {
     "data": {
      "image/png": "[encoded data removed]",
      "text/plain": [
       "<Figure size 432x288 with 1 Axes>"
      ]
     },
     "metadata": {
      "needs_background": "light"
     },
     "output_type": "display_data"
    },
    {
     "name": "stdout",
     "output_type": "stream",
     "text": [
      "(32, 14, 14)\n",
      "(32, 7, 7)\n",
      "(7, 7, 32)\n",
      "(64, 3, 3)\n",
      "(64, 1, 1)\n",
      "(55000, 10)\n",
      "o2 (14, 14, 32)\n",
      "i (28, 28)\n",
      "o3 (7, 7, 32)\n",
      "o4 (3, 3, 64)\n",
      "(10,) (10,)\n",
      "(28, 28)\n"
     ]
    },
    {
     "data": {
      "image/png": "[encoded data removed]",
      "text/plain": [
       "<Figure size 432x288 with 1 Axes>"
      ]
     },
     "metadata": {
      "needs_background": "light"
     },
     "output_type": "display_data"
    },
    {
     "name": "stdout",
     "output_type": "stream",
     "text": [
      "(32, 14, 14)\n",
      "(32, 7, 7)\n",
      "(7, 7, 32)\n",
      "(64, 3, 3)\n",
      "(64, 1, 1)\n",
      "(10, 55000)\n",
      "o2 (14, 14, 32)\n",
      "i (28, 28)\n",
      "o3 (7, 7, 32)\n",
      "o4 (3, 3, 64)\n",
      "(10,) (10,)\n",
      "(28, 28)\n"
     ]
    },
    {
     "data": {
      "image/png": "[encoded data removed]",
      "text/plain": [
       "<Figure size 432x288 with 1 Axes>"
      ]
     },
     "metadata": {
      "needs_background": "light"
     },
     "output_type": "display_data"
    },
    {
     "name": "stdout",
     "output_type": "stream",
     "text": [
      "(32, 14, 14)\n",
      "(32, 7, 7)\n",
      "(7, 7, 32)\n",
      "(64, 3, 3)\n",
      "(64, 1, 1)\n",
      "(55000, 10)\n",
      "o2 (14, 14, 32)\n",
      "i (28, 28)\n",
      "o3 (7, 7, 32)\n",
      "o4 (3, 3, 64)\n",
      "(10,) (10,)\n",
      "(28, 28)\n"
     ]
    },
    {
     "data": {
      "image/png": "[encoded data removed]",
      "text/plain": [
       "<Figure size 432x288 with 1 Axes>"
      ]
     },
     "metadata": {
      "needs_background": "light"
     },
     "output_type": "display_data"
    },
    {
     "name": "stdout",
     "output_type": "stream",
     "text": [
      "(32, 14, 14)\n",
      "(32, 7, 7)\n",
      "(7, 7, 32)\n",
      "(64, 3, 3)\n",
      "(64, 1, 1)\n",
      "(10, 55000)\n",
      "o2 (14, 14, 32)\n",
      "i (28, 28)\n",
      "o3 (7, 7, 32)\n",
      "o4 (3, 3, 64)\n",
      "(10,) (10,)\n",
      "(28, 28)\n"
     ]
    },
    {
     "data": {
      "image/png": "[encoded data removed]",
      "text/plain": [
       "<Figure size 432x288 with 1 Axes>"
      ]
     },
     "metadata": {
      "needs_background": "light"
     },
     "output_type": "display_data"
    },
    {
     "name": "stdout",
     "output_type": "stream",
     "text": [
      "(32, 14, 14)\n",
      "(32, 7, 7)\n",
      "(7, 7, 32)\n",
      "(64, 3, 3)\n",
      "(64, 1, 1)\n",
      "(55000, 10)\n",
      "o2 (14, 14, 32)\n",
      "i (28, 28)\n",
      "o3 (7, 7, 32)\n",
      "o4 (3, 3, 64)\n",
      "(10,) (10,)\n",
      "(28, 28)\n"
     ]
    },
    {
     "data": {
      "image/png": "[encoded data removed]",
      "text/plain": [
       "<Figure size 432x288 with 1 Axes>"
      ]
     },
     "metadata": {
      "needs_background": "light"
     },
     "output_type": "display_data"
    },
    {
     "name": "stdout",
     "output_type": "stream",
     "text": [
      "(32, 14, 14)\n",
      "(32, 7, 7)\n",
      "(7, 7, 32)\n",
      "(64, 3, 3)\n",
      "(64, 1, 1)\n",
      "(10, 55000)\n",
      "o2 (14, 14, 32)\n",
      "i (28, 28)\n",
      "o3 (7, 7, 32)\n",
      "o4 (3, 3, 64)\n",
      "(10,) (10,)\n",
      "(28, 28)\n"
     ]
    },
    {
     "data": {
      "image/png": "[encoded data removed]",
      "text/plain": [
       "<Figure size 432x288 with 1 Axes>"
      ]
     },
     "metadata": {
      "needs_background": "light"
     },
     "output_type": "display_data"
    },
    {
     "name": "stdout",
     "output_type": "stream",
     "text": [
      "(32, 14, 14)\n",
      "(32, 7, 7)\n",
      "(7, 7, 32)\n",
      "(64, 3, 3)\n",
      "(64, 1, 1)\n",
      "(10, 55000)\n",
      "o2 (14, 14, 32)\n",
      "i (28, 28)\n",
      "o3 (7, 7, 32)\n",
      "o4 (3, 3, 64)\n",
      "(10,) (10,)\n",
      "(28, 28)\n"
     ]
    },
    {
     "data": {
      "image/png": "[encoded data removed]",
      "text/plain": [
       "<Figure size 432x288 with 1 Axes>"
      ]
     },
     "metadata": {
      "needs_background": "light"
     },
     "output_type": "display_data"
    },
    {
     "name": "stdout",
     "output_type": "stream",
     "text": [
      "(32, 14, 14)\n",
      "(32, 7, 7)\n",
      "(7, 7, 32)\n"
     ]
    },
    {
     "ename": "KeyboardInterrupt",
     "evalue": "",
     "output_type": "error",
     "traceback": [
      "\u001b[0;31m---------------------------------------------------------------------------\u001b[0m",
      "\u001b[0;31mKeyboardInterrupt\u001b[0m                         Traceback (most recent call last)",
      "\u001b[0;32m<ipython-input-12-bb5bc85da091>\u001b[0m in \u001b[0;36m<module>\u001b[0;34m()\u001b[0m\n\u001b[1;32m     40\u001b[0m         \u001b[0mprint\u001b[0m\u001b[0;34m(\u001b[0m\u001b[0mnp\u001b[0m\u001b[0;34m.\u001b[0m\u001b[0mshape\u001b[0m\u001b[0;34m(\u001b[0m\u001b[0mO3\u001b[0m\u001b[0;34m)\u001b[0m\u001b[0;34m)\u001b[0m\u001b[0;34m\u001b[0m\u001b[0m\n\u001b[1;32m     41\u001b[0m \u001b[0;34m\u001b[0m\u001b[0m\n\u001b[0;32m---> 42\u001b[0;31m         \u001b[0mO4\u001b[0m\u001b[0;34m=\u001b[0m\u001b[0mconv_layer\u001b[0m\u001b[0;34m(\u001b[0m\u001b[0mO3\u001b[0m\u001b[0;34m,\u001b[0m\u001b[0mL2\u001b[0m\u001b[0;34m,\u001b[0m\u001b[0mfilters2\u001b[0m\u001b[0;34m,\u001b[0m\u001b[0ms\u001b[0m\u001b[0;34m=\u001b[0m\u001b[0;36m2\u001b[0m\u001b[0;34m,\u001b[0m\u001b[0mpadding\u001b[0m\u001b[0;34m=\u001b[0m\u001b[0;36m1\u001b[0m\u001b[0;34m,\u001b[0m\u001b[0mfunc\u001b[0m\u001b[0;34m=\u001b[0m\u001b[0;34m\"ReLU\"\u001b[0m\u001b[0;34m,\u001b[0m\u001b[0mno_of_filters\u001b[0m\u001b[0;34m=\u001b[0m\u001b[0mfilter_count2\u001b[0m\u001b[0;34m)\u001b[0m\u001b[0;34m\u001b[0m\u001b[0m\n\u001b[0m\u001b[1;32m     43\u001b[0m         \u001b[0mprint\u001b[0m\u001b[0;34m(\u001b[0m\u001b[0mnp\u001b[0m\u001b[0;34m.\u001b[0m\u001b[0mshape\u001b[0m\u001b[0;34m(\u001b[0m\u001b[0mO4\u001b[0m\u001b[0;34m)\u001b[0m\u001b[0;34m)\u001b[0m\u001b[0;34m\u001b[0m\u001b[0m\n\u001b[1;32m     44\u001b[0m \u001b[0;34m\u001b[0m\u001b[0m\n",
      "\u001b[0;32m<ipython-input-4-56d203268fb5>\u001b[0m in \u001b[0;36mconv_layer\u001b[0;34m(img, L, filters, s, padding, func, no_of_filters)\u001b[0m\n\u001b[1;32m      2\u001b[0m     \u001b[0mout\u001b[0m\u001b[0;34m=\u001b[0m\u001b[0;34m[\u001b[0m\u001b[0;34m]\u001b[0m\u001b[0;34m\u001b[0m\u001b[0m\n\u001b[1;32m      3\u001b[0m     \u001b[0;32mfor\u001b[0m \u001b[0mi\u001b[0m \u001b[0;32min\u001b[0m \u001b[0mrange\u001b[0m\u001b[0;34m(\u001b[0m\u001b[0mno_of_filters\u001b[0m\u001b[0;34m)\u001b[0m\u001b[0;34m:\u001b[0m\u001b[0;34m\u001b[0m\u001b[0m\n\u001b[0;32m----> 4\u001b[0;31m         \u001b[0mout\u001b[0m\u001b[0;34m.\u001b[0m\u001b[0mappend\u001b[0m\u001b[0;34m(\u001b[0m\u001b[0mconvolution\u001b[0m\u001b[0;34m(\u001b[0m\u001b[0mimg\u001b[0m\u001b[0;34m,\u001b[0m\u001b[0mL\u001b[0m\u001b[0;34m,\u001b[0m\u001b[0mfilters\u001b[0m\u001b[0;34m[\u001b[0m\u001b[0mi\u001b[0m\u001b[0;34m]\u001b[0m\u001b[0;34m,\u001b[0m\u001b[0ms\u001b[0m\u001b[0;34m,\u001b[0m\u001b[0mpadding\u001b[0m\u001b[0;34m,\u001b[0m\u001b[0mfunc\u001b[0m\u001b[0;34m)\u001b[0m\u001b[0;34m)\u001b[0m\u001b[0;34m\u001b[0m\u001b[0m\n\u001b[0m\u001b[1;32m      5\u001b[0m     \u001b[0mout\u001b[0m\u001b[0;34m=\u001b[0m\u001b[0mnp\u001b[0m\u001b[0;34m.\u001b[0m\u001b[0marray\u001b[0m\u001b[0;34m(\u001b[0m\u001b[0mout\u001b[0m\u001b[0;34m)\u001b[0m\u001b[0;34m\u001b[0m\u001b[0m\n\u001b[1;32m      6\u001b[0m     \u001b[0;32mreturn\u001b[0m \u001b[0mout\u001b[0m\u001b[0;34m\u001b[0m\u001b[0m\n",
      "\u001b[0;32m<ipython-input-2-ea5649dd20bb>\u001b[0m in \u001b[0;36mconvolution\u001b[0;34m(img, L, filt, s, padding, func)\u001b[0m\n\u001b[1;32m     29\u001b[0m                         \u001b[0;32melse\u001b[0m\u001b[0;34m:\u001b[0m\u001b[0;34m\u001b[0m\u001b[0m\n\u001b[1;32m     30\u001b[0m                             \u001b[0;32mfor\u001b[0m \u001b[0mq\u001b[0m \u001b[0;32min\u001b[0m \u001b[0mrange\u001b[0m\u001b[0;34m(\u001b[0m\u001b[0md\u001b[0m\u001b[0;34m)\u001b[0m\u001b[0;34m:\u001b[0m\u001b[0;34m\u001b[0m\u001b[0m\n\u001b[0;32m---> 31\u001b[0;31m                                 \u001b[0mO\u001b[0m\u001b[0;34m[\u001b[0m\u001b[0mint\u001b[0m\u001b[0;34m(\u001b[0m\u001b[0;34m(\u001b[0m\u001b[0mi\u001b[0m\u001b[0;34m-\u001b[0m\u001b[0ml\u001b[0m\u001b[0;34m+\u001b[0m\u001b[0;36m1\u001b[0m\u001b[0;34m)\u001b[0m\u001b[0;34m/\u001b[0m\u001b[0ms\u001b[0m\u001b[0;34m)\u001b[0m\u001b[0;34m-\u001b[0m\u001b[0;36m1\u001b[0m\u001b[0;34m]\u001b[0m\u001b[0;34m[\u001b[0m\u001b[0mint\u001b[0m\u001b[0;34m(\u001b[0m\u001b[0;34m(\u001b[0m\u001b[0mj\u001b[0m\u001b[0;34m-\u001b[0m\u001b[0ml\u001b[0m\u001b[0;34m+\u001b[0m\u001b[0;36m1\u001b[0m\u001b[0;34m)\u001b[0m\u001b[0;34m/\u001b[0m\u001b[0ms\u001b[0m\u001b[0;34m)\u001b[0m\u001b[0;34m-\u001b[0m\u001b[0;36m1\u001b[0m\u001b[0;34m]\u001b[0m\u001b[0;34m+=\u001b[0m\u001b[0mX\u001b[0m\u001b[0;34m[\u001b[0m\u001b[0mk\u001b[0m\u001b[0;34m]\u001b[0m\u001b[0;34m[\u001b[0m\u001b[0mp\u001b[0m\u001b[0;34m]\u001b[0m\u001b[0;34m[\u001b[0m\u001b[0mq\u001b[0m\u001b[0;34m]\u001b[0m\u001b[0;34m*\u001b[0m\u001b[0mfilt\u001b[0m\u001b[0;34m[\u001b[0m\u001b[0mk\u001b[0m\u001b[0;34m-\u001b[0m\u001b[0mi\u001b[0m\u001b[0;34m+\u001b[0m\u001b[0ml\u001b[0m\u001b[0;34m]\u001b[0m\u001b[0;34m[\u001b[0m\u001b[0mp\u001b[0m\u001b[0;34m-\u001b[0m\u001b[0mj\u001b[0m\u001b[0;34m+\u001b[0m\u001b[0ml\u001b[0m\u001b[0;34m]\u001b[0m\u001b[0;34m\u001b[0m\u001b[0m\n\u001b[0m\u001b[1;32m     32\u001b[0m                     \u001b[0;32melse\u001b[0m\u001b[0;34m:\u001b[0m\u001b[0;34m\u001b[0m\u001b[0m\n\u001b[1;32m     33\u001b[0m                         \u001b[0mO\u001b[0m\u001b[0;34m[\u001b[0m\u001b[0mint\u001b[0m\u001b[0;34m(\u001b[0m\u001b[0;34m(\u001b[0m\u001b[0mi\u001b[0m\u001b[0;34m-\u001b[0m\u001b[0ml\u001b[0m\u001b[0;34m+\u001b[0m\u001b[0;36m1\u001b[0m\u001b[0;34m)\u001b[0m\u001b[0;34m/\u001b[0m\u001b[0ms\u001b[0m\u001b[0;34m)\u001b[0m\u001b[0;34m-\u001b[0m\u001b[0;36m1\u001b[0m\u001b[0;34m]\u001b[0m\u001b[0;34m[\u001b[0m\u001b[0mint\u001b[0m\u001b[0;34m(\u001b[0m\u001b[0;34m(\u001b[0m\u001b[0mj\u001b[0m\u001b[0;34m-\u001b[0m\u001b[0ml\u001b[0m\u001b[0;34m+\u001b[0m\u001b[0;36m1\u001b[0m\u001b[0;34m)\u001b[0m\u001b[0;34m/\u001b[0m\u001b[0ms\u001b[0m\u001b[0;34m)\u001b[0m\u001b[0;34m-\u001b[0m\u001b[0;36m1\u001b[0m\u001b[0;34m]\u001b[0m\u001b[0;34m+=\u001b[0m\u001b[0mX\u001b[0m\u001b[0;34m[\u001b[0m\u001b[0mk\u001b[0m\u001b[0;34m]\u001b[0m\u001b[0;34m[\u001b[0m\u001b[0mp\u001b[0m\u001b[0;34m]\u001b[0m\u001b[0;34m*\u001b[0m\u001b[0mfilt\u001b[0m\u001b[0;34m[\u001b[0m\u001b[0mk\u001b[0m\u001b[0;34m-\u001b[0m\u001b[0mi\u001b[0m\u001b[0;34m+\u001b[0m\u001b[0ml\u001b[0m\u001b[0;34m]\u001b[0m\u001b[0;34m[\u001b[0m\u001b[0mp\u001b[0m\u001b[0;34m-\u001b[0m\u001b[0mj\u001b[0m\u001b[0;34m+\u001b[0m\u001b[0ml\u001b[0m\u001b[0;34m]\u001b[0m\u001b[0;34m\u001b[0m\u001b[0m\n",
      "\u001b[0;31mKeyboardInterrupt\u001b[0m: "
     ]
    }
   ],
   "source": [
    "\n",
    "L1=5\n",
    "L2=5\n",
    "filter_count1=32\n",
    "filter_count2=64\n",
    "\n",
    "filters1=np.random.normal(0.1,0.2,(filter_count1,L1,L1)) \n",
    "filters2=np.random.normal(0.1,0.2,(filter_count2,L2,L2)) \n",
    "\n",
    "p=2\n",
    "\n",
    "L=1024\n",
    "M=128\n",
    "K=10\n",
    "\n",
    "alpham=np.random.normal(0,0.01,(L,M))\n",
    "alpham0=np.random.normal(0,0.01,M)\n",
    "betam=np.random.normal(0,0.01,(M,K))\n",
    "betam0=np.random.normal(0,0.01,K)\n",
    "\n",
    "N=len(Xtrain)\n",
    "N=7  ######################  for training on full data set, remove this command\n",
    "epoch=15##############################\n",
    "lr1=1e-4\n",
    "lr2=2e-4\n",
    "\n",
    "for t in range(epoch):\n",
    "    for i in range(N):\n",
    "        I=Xtrain[i]\n",
    "        print(np.shape(I))\n",
    "        plt.imshow(I)\n",
    "        plt.show()\n",
    "        \n",
    "        O2=conv_layer(I,L1,filters1,s=2,padding=1,func=\"ReLU\",no_of_filters=filter_count1)\n",
    "        print(np.shape(O2))\n",
    "        \n",
    "        O3=pool_layer(O2,p,s=2,padding=1,pool=\"Max\")\n",
    "        print(np.shape(O3))\n",
    "        O3=np.swapaxes(O3,0,2)\n",
    "        print(np.shape(O3))\n",
    "        \n",
    "        O4=conv_layer(O3,L2,filters2,s=2,padding=1,func=\"ReLU\",no_of_filters=filter_count2)\n",
    "        print(np.shape(O4))\n",
    "        \n",
    "        O5=pool_layer(O4,p,s=2,padding=1,pool=\"Max\")\n",
    "        print(np.shape(O5))\n",
    "        O5=np.array(O5)\n",
    "        X=unravelling(O5,L)\n",
    "\n",
    "        Z,T,Y=MLP_fwd_pass(X,alpham,alpham0,betam,betam0)\n",
    "        ytrain=np.array(ytrain.T)\n",
    "        print(np.shape(ytrain))\n",
    "        \n",
    "        O2=np.swapaxes(O2,0,2)\n",
    "        col=len(O2[0])\n",
    "        print('o2',np.shape(O2))\n",
    "        print('i',np.shape(I))\n",
    "        for j in range(filter_count1):\n",
    "            for k in range(L1):\n",
    "                for l in range(L1):\n",
    "                    for q in range(K):\n",
    "                        filters1[j][k][l]-=lr1*-(ytrain[i][q]/Y[q])*dsig(np.sum(O2[int((q+1)/col)][(q+1)%col]))*I[int((q+1)/col)-k][((q+1)%col)-l]\n",
    "        \n",
    "        O4=np.swapaxes(O4,0,2)\n",
    "        col=len(O4[0])\n",
    "        print('o3',np.shape(O3))\n",
    "        print('o4',np.shape(O4))\n",
    "        for j in range(filter_count2):\n",
    "            for k in range(L2):\n",
    "                for l in range(L2):\n",
    "                    for q in range(K):\n",
    "                        filters2[j][k][l]-=lr1*-(ytrain[i][q]/Y[q])*dsig(np.sum(O4[int((q+1)/col-1)][(q+1)%col-1]))*np.sum(O3[int((q+1)/col)-k][((q+1)%col)-l])\n",
    "\n",
    "        der_gk=np.sum(der_SoftMax(T),axis=0)\n",
    "        print(np.shape(T),np.shape(der_gk))\n",
    "        for m in range(M):\n",
    "            for l in range(L):\n",
    "                for k in range(K):\n",
    "                    alpham[l][m]-=lr2*-(ytrain[i][k]/Y[k])*der_gk[k]*betam[m][k]*X[l]\n",
    "                    \n",
    "        for k in range(K):\n",
    "            for m in range(M):\n",
    "                betam[m][k]-=lr2*-(ytrain[i][k]/Y[k])*der_gk[k]*Z[m]    \n",
    "                \n",
    "    ytrain=ytrain.T\n",
    "    Xtrain,ytrain=shuffle(Xtrain,ytrain,random_state=0) # shuffling at the end of an epoch\n",
    "                \n"
   ]
  },
  {
   "cell_type": "markdown",
   "metadata": {},
   "source": [
    "## Backpropogation using batch gradient descent"
   ]
  },
  {
   "cell_type": "code",
   "execution_count": null,
   "metadata": {},
   "outputs": [],
   "source": [
    "L1=5\n",
    "L2=5\n",
    "filter_count1=32\n",
    "filter_count2=64\n",
    "\n",
    "filters1=np.random.normal(0.1,0.2,(filter_count1,L1,L1)) \n",
    "filters2=np.random.normal(0.1,0.2,(filter_count2,L2,L2)) \n",
    "\n",
    "p=2\n",
    "\n",
    "L=1024\n",
    "M=128\n",
    "K=10\n",
    "\n",
    "alpham=np.random.normal(0,0.01,(L,M))\n",
    "alpham0=np.random.normal(0,0.01,M)\n",
    "betam=np.random.normal(0,0.01,(M,K))\n",
    "betam0=np.random.normal(0,0.01,K)\n",
    "\n",
    "N=len(Xtrain)\n",
    "N=10  ############ for training on full data set, remove this command\n",
    "epoch=15\n",
    "lr1=1e-4\n",
    "lr2=2e-4\n",
    "\n",
    "Y_list=[]\n",
    "ytrain_list=[]\n",
    "batch_size=10\n",
    "\n",
    "for t in range(epoch):\n",
    "    for i in range(len(Xtrain)):\n",
    "        I=Xtrain[i]\n",
    "        print(np.shape(I))\n",
    "        plt.imshow(I)\n",
    "        plt.show()\n",
    "\n",
    "        O2=conv_layer(I,L1,filters1,s=2,padding=1,func=\"ReLU\",no_of_filters=filter_count1)\n",
    "        print(np.shape(O2))\n",
    "\n",
    "        O3=pool_layer(O2,p,s=2,padding=1,pool=\"Max\")\n",
    "        print(np.shape(O3))\n",
    "        O3=np.swapaxes(O3,0,2)\n",
    "        print(np.shape(O3))\n",
    "\n",
    "        O4=conv_layer(O3,L2,filters2,s=2,padding=1,func=\"ReLU\",no_of_filters=filter_count2)\n",
    "        print(np.shape(O4))\n",
    "\n",
    "        O5=pool_layer(O4,p,s=2,padding=1,pool=\"Max\")\n",
    "        print(np.shape(O5))\n",
    "        O5=np.array(O5)\n",
    "        X=unravelling(O5,L)\n",
    "    \n",
    "        Z,T,Y=MLP_fwd_pass(X,alpham,alpham0,betam,betam0)\n",
    "        Y_list.append(Y)\n",
    "        ytrain_list.append(ytrain[i])\n",
    "        \n",
    "        if i%(batch_size-1)==0:  # when batch size amount of samples pass through the N/W\n",
    "            Y_list=np.array(Y_list)\n",
    "            ytrain=np.array(ytrain.T)\n",
    "            print(np.shape(ytrain))\n",
    "\n",
    "            O2=np.swapaxes(O2,0,2)\n",
    "            col=len(O2[0])\n",
    "            print('o2',np.shape(O2))\n",
    "            print('i',np.shape(I))\n",
    "            for f in range(batch_size): \n",
    "                for j in range(filter_count1):\n",
    "                    for k in range(L1):\n",
    "                        for l in range(L1):\n",
    "                            for q in range(K):\n",
    "                                filters1[j][k][l]-=lr1*-(ytrain_list[f][q]/Y_list[f][q])*dsig(np.sum(O2[int((q+1)/col)][(q+1)%col]))*I[int((q+1)/col)-k][((q+1)%col)-l]\n",
    "\n",
    "            O4=np.swapaxes(O4,0,2)\n",
    "            col=len(O4[0])\n",
    "            print('o3',np.shape(O3))\n",
    "            print('o4',np.shape(O4))\n",
    "            for f in range(batch_size):\n",
    "                for j in range(filter_count2):\n",
    "                    for k in range(L2):\n",
    "                        for l in range(L2):\n",
    "                            for q in range(K):\n",
    "                                filters2[j][k][l]-=lr1*-(ytrain_list[f][q]/Y_list[f][q])*dsig(np.sum(O4[int((q+1)/col-1)][(q+1)%col-1]))*np.sum(O3[int((q+1)/col)-k][((q+1)%col)-l])\n",
    "\n",
    "            der_gk=np.sum(der_SoftMax(T),axis=0)\n",
    "            print(np.shape(T),np.shape(der_gk))\n",
    "            for f in range(batch_size):\n",
    "                for m in range(M):\n",
    "                    for l in range(L):\n",
    "                        for k in range(K):\n",
    "                            alpham[l][m]-=lr2*-(ytrain_list[f][k]/Y_list[f][k])*der_gk[k]*betam[m][k]*X[l]\n",
    "                            \n",
    "            for f in range(batch_size):\n",
    "                for k in range(K):\n",
    "                    for m in range(M):\n",
    "                        betam[m][k]-=lr2*-(ytrain_list[f][k]/Y_list[f][k])*der_gk[k]*Z[m]   \n",
    "            \n",
    "            Y_list=[]\n",
    "            ytrain_list=[]\n",
    "            \n",
    "    ytrain=ytrain.T\n",
    "    Xtrain,ytrain=shuffle(Xtrain,ytrain,random_state=0) # shuffling at the end of an epoch\n"
   ]
  },
  {
   "cell_type": "markdown",
   "metadata": {},
   "source": [
    "## Since the above network takes much time, we are training in a small network to get the results faster"
   ]
  },
  {
   "cell_type": "code",
   "execution_count": 21,
   "metadata": {},
   "outputs": [
    {
     "name": "stdout",
     "output_type": "stream",
     "text": [
      "(28, 28)\n"
     ]
    },
    {
     "data": {
      "image/png": "[encoded data removed]",
      "text/plain": [
       "<Figure size 432x288 with 1 Axes>"
      ]
     },
     "metadata": {
      "needs_background": "light"
     },
     "output_type": "display_data"
    },
    {
     "name": "stdout",
     "output_type": "stream",
     "text": [
      "(28, 28)\n"
     ]
    },
    {
     "data": {
      "image/png": "[encoded data removed]",
      "text/plain": [
       "<Figure size 432x288 with 1 Axes>"
      ]
     },
     "metadata": {
      "needs_background": "light"
     },
     "output_type": "display_data"
    },
    {
     "name": "stdout",
     "output_type": "stream",
     "text": [
      "(28, 28)\n"
     ]
    },
    {
     "data": {
      "image/png": "[encoded data removed]",
      "text/plain": [
       "<Figure size 432x288 with 1 Axes>"
      ]
     },
     "metadata": {
      "needs_background": "light"
     },
     "output_type": "display_data"
    },
    {
     "name": "stdout",
     "output_type": "stream",
     "text": [
      "(28, 28)\n"
     ]
    },
    {
     "data": {
      "image/png": "[encoded data removed]",
      "text/plain": [
       "<Figure size 432x288 with 1 Axes>"
      ]
     },
     "metadata": {
      "needs_background": "light"
     },
     "output_type": "display_data"
    },
    {
     "name": "stdout",
     "output_type": "stream",
     "text": [
      "(28, 28)\n"
     ]
    },
    {
     "data": {
      "image/png": "[encoded data removed]",
      "text/plain": [
       "<Figure size 432x288 with 1 Axes>"
      ]
     },
     "metadata": {
      "needs_background": "light"
     },
     "output_type": "display_data"
    },
    {
     "name": "stdout",
     "output_type": "stream",
     "text": [
      "(28, 28)\n"
     ]
    },
    {
     "data": {
      "image/png": "[encoded data removed]",
      "text/plain": [
       "<Figure size 432x288 with 1 Axes>"
      ]
     },
     "metadata": {
      "needs_background": "light"
     },
     "output_type": "display_data"
    },
    {
     "name": "stdout",
     "output_type": "stream",
     "text": [
      "(28, 28)\n"
     ]
    },
    {
     "data": {
      "image/png": "[encoded data removed]",
      "text/plain": [
       "<Figure size 432x288 with 1 Axes>"
      ]
     },
     "metadata": {
      "needs_background": "light"
     },
     "output_type": "display_data"
    },
    {
     "name": "stdout",
     "output_type": "stream",
     "text": [
      "(28, 28)\n"
     ]
    },
    {
     "data": {
      "image/png": "[encoded data removed]",
      "text/plain": [
       "<Figure size 432x288 with 1 Axes>"
      ]
     },
     "metadata": {
      "needs_background": "light"
     },
     "output_type": "display_data"
    },
    {
     "name": "stdout",
     "output_type": "stream",
     "text": [
      "(28, 28)\n"
     ]
    },
    {
     "data": {
      "image/png": "[encoded data removed]",
      "text/plain": [
       "<Figure size 432x288 with 1 Axes>"
      ]
     },
     "metadata": {
      "needs_background": "light"
     },
     "output_type": "display_data"
    },
    {
     "name": "stdout",
     "output_type": "stream",
     "text": [
      "(28, 28)\n"
     ]
    },
    {
     "data": {
      "image/png": "[encoded data removed]",
      "text/plain": [
       "<Figure size 432x288 with 1 Axes>"
      ]
     },
     "metadata": {
      "needs_background": "light"
     },
     "output_type": "display_data"
    },
    {
     "name": "stdout",
     "output_type": "stream",
     "text": [
      "train error is: 2.30349036964462 at epoch= 0\n",
      "Accuracy: 0.2\n",
      "test error is: 2.2984881413264264 at epoch= 0\n"
     ]
    },
    {
     "data": {
      "image/png": "[encoded data removed]",
      "text/plain": [
       "<Figure size 432x288 with 1 Axes>"
      ]
     },
     "metadata": {
      "needs_background": "light"
     },
     "output_type": "display_data"
    },
    {
     "name": "stdout",
     "output_type": "stream",
     "text": [
      "(28, 28)\n"
     ]
    },
    {
     "data": {
      "image/png": "[encoded data removed]",
      "text/plain": [
       "<Figure size 432x288 with 1 Axes>"
      ]
     },
     "metadata": {
      "needs_background": "light"
     },
     "output_type": "display_data"
    },
    {
     "name": "stdout",
     "output_type": "stream",
     "text": [
      "(28, 28)\n"
     ]
    },
    {
     "data": {
      "image/png": "[encoded data removed]",
      "text/plain": [
       "<Figure size 432x288 with 1 Axes>"
      ]
     },
     "metadata": {
      "needs_background": "light"
     },
     "output_type": "display_data"
    },
    {
     "name": "stdout",
     "output_type": "stream",
     "text": [
      "(28, 28)\n"
     ]
    },
    {
     "data": {
      "image/png": "[encoded data removed]",
      "text/plain": [
       "<Figure size 432x288 with 1 Axes>"
      ]
     },
     "metadata": {
      "needs_background": "light"
     },
     "output_type": "display_data"
    },
    {
     "name": "stdout",
     "output_type": "stream",
     "text": [
      "(28, 28)\n"
     ]
    },
    {
     "data": {
      "image/png": "[encoded data removed]",
      "text/plain": [
       "<Figure size 432x288 with 1 Axes>"
      ]
     },
     "metadata": {
      "needs_background": "light"
     },
     "output_type": "display_data"
    },
    {
     "name": "stdout",
     "output_type": "stream",
     "text": [
      "(28, 28)\n"
     ]
    },
    {
     "data": {
      "image/png": "[encoded data removed]",
      "text/plain": [
       "<Figure size 432x288 with 1 Axes>"
      ]
     },
     "metadata": {
      "needs_background": "light"
     },
     "output_type": "display_data"
    },
    {
     "name": "stdout",
     "output_type": "stream",
     "text": [
      "(28, 28)\n"
     ]
    },
    {
     "data": {
      "image/png": "[encoded data removed]",
      "text/plain": [
       "<Figure size 432x288 with 1 Axes>"
      ]
     },
     "metadata": {
      "needs_background": "light"
     },
     "output_type": "display_data"
    },
    {
     "name": "stdout",
     "output_type": "stream",
     "text": [
      "(28, 28)\n"
     ]
    },
    {
     "data": {
      "image/png": "[encoded data removed]",
      "text/plain": [
       "<Figure size 432x288 with 1 Axes>"
      ]
     },
     "metadata": {
      "needs_background": "light"
     },
     "output_type": "display_data"
    },
    {
     "name": "stdout",
     "output_type": "stream",
     "text": [
      "(28, 28)\n"
     ]
    },
    {
     "data": {
      "image/png": "[encoded data removed]",
      "text/plain": [
       "<Figure size 432x288 with 1 Axes>"
      ]
     },
     "metadata": {
      "needs_background": "light"
     },
     "output_type": "display_data"
    },
    {
     "name": "stdout",
     "output_type": "stream",
     "text": [
      "(28, 28)\n"
     ]
    },
    {
     "data": {
      "image/png": "[encoded data removed]",
      "text/plain": [
       "<Figure size 432x288 with 1 Axes>"
      ]
     },
     "metadata": {
      "needs_background": "light"
     },
     "output_type": "display_data"
    },
    {
     "name": "stdout",
     "output_type": "stream",
     "text": [
      "(28, 28)\n"
     ]
    },
    {
     "data": {
      "image/png": "[encoded data removed]",
      "text/plain": [
       "<Figure size 432x288 with 1 Axes>"
      ]
     },
     "metadata": {
      "needs_background": "light"
     },
     "output_type": "display_data"
    },
    {
     "name": "stdout",
     "output_type": "stream",
     "text": [
      "train error is: 2.303795493081979 at epoch= 1\n",
      "Accuracy: 0.2\n",
      "test error is: 2.297960143815592 at epoch= 1\n"
     ]
    },
    {
     "data": {
      "image/png": "[encoded data removed]",
      "text/plain": [
       "<Figure size 432x288 with 1 Axes>"
      ]
     },
     "metadata": {
      "needs_background": "light"
     },
     "output_type": "display_data"
    },
    {
     "name": "stdout",
     "output_type": "stream",
     "text": [
      "(28, 28)\n"
     ]
    },
    {
     "data": {
      "image/png": "[encoded data removed]",
      "text/plain": [
       "<Figure size 432x288 with 1 Axes>"
      ]
     },
     "metadata": {
      "needs_background": "light"
     },
     "output_type": "display_data"
    },
    {
     "name": "stdout",
     "output_type": "stream",
     "text": [
      "(28, 28)\n"
     ]
    },
    {
     "data": {
      "image/png": "[encoded data removed]",
      "text/plain": [
       "<Figure size 432x288 with 1 Axes>"
      ]
     },
     "metadata": {
      "needs_background": "light"
     },
     "output_type": "display_data"
    },
    {
     "name": "stdout",
     "output_type": "stream",
     "text": [
      "(28, 28)\n"
     ]
    },
    {
     "data": {
      "image/png": "[encoded data removed]",
      "text/plain": [
       "<Figure size 432x288 with 1 Axes>"
      ]
     },
     "metadata": {
      "needs_background": "light"
     },
     "output_type": "display_data"
    },
    {
     "name": "stdout",
     "output_type": "stream",
     "text": [
      "(28, 28)\n"
     ]
    },
    {
     "data": {
      "image/png": "[encoded data removed]",
      "text/plain": [
       "<Figure size 432x288 with 1 Axes>"
      ]
     },
     "metadata": {
      "needs_background": "light"
     },
     "output_type": "display_data"
    },
    {
     "name": "stdout",
     "output_type": "stream",
     "text": [
      "(28, 28)\n"
     ]
    },
    {
     "data": {
      "image/png": "[encoded data removed]",
      "text/plain": [
       "<Figure size 432x288 with 1 Axes>"
      ]
     },
     "metadata": {
      "needs_background": "light"
     },
     "output_type": "display_data"
    },
    {
     "name": "stdout",
     "output_type": "stream",
     "text": [
      "(28, 28)\n"
     ]
    },
    {
     "data": {
      "image/png": "[encoded data removed]",
      "text/plain": [
       "<Figure size 432x288 with 1 Axes>"
      ]
     },
     "metadata": {
      "needs_background": "light"
     },
     "output_type": "display_data"
    },
    {
     "name": "stdout",
     "output_type": "stream",
     "text": [
      "(28, 28)\n"
     ]
    },
    {
     "data": {
      "image/png": "[encoded data removed]",
      "text/plain": [
       "<Figure size 432x288 with 1 Axes>"
      ]
     },
     "metadata": {
      "needs_background": "light"
     },
     "output_type": "display_data"
    },
    {
     "name": "stdout",
     "output_type": "stream",
     "text": [
      "(28, 28)\n"
     ]
    },
    {
     "data": {
      "image/png": "[encoded data removed]",
      "text/plain": [
       "<Figure size 432x288 with 1 Axes>"
      ]
     },
     "metadata": {
      "needs_background": "light"
     },
     "output_type": "display_data"
    },
    {
     "name": "stdout",
     "output_type": "stream",
     "text": [
      "(28, 28)\n"
     ]
    },
    {
     "data": {
      "image/png": "[encoded data removed]",
      "text/plain": [
       "<Figure size 432x288 with 1 Axes>"
      ]
     },
     "metadata": {
      "needs_background": "light"
     },
     "output_type": "display_data"
    },
    {
     "name": "stdout",
     "output_type": "stream",
     "text": [
      "(28, 28)\n"
     ]
    },
    {
     "data": {
      "image/png": "[encoded data removed]",
      "text/plain": [
       "<Figure size 432x288 with 1 Axes>"
      ]
     },
     "metadata": {
      "needs_background": "light"
     },
     "output_type": "display_data"
    },
    {
     "name": "stdout",
     "output_type": "stream",
     "text": [
      "train error is: 2.3038101042331993 at epoch= 2\n",
      "Accuracy: 0.2\n",
      "test error is: 2.2976530021834622 at epoch= 2\n"
     ]
    },
    {
     "data": {
      "image/png": "[encoded data removed]",
      "text/plain": [
       "<Figure size 432x288 with 1 Axes>"
      ]
     },
     "metadata": {
      "needs_background": "light"
     },
     "output_type": "display_data"
    },
    {
     "name": "stdout",
     "output_type": "stream",
     "text": [
      "(28, 28)\n"
     ]
    },
    {
     "data": {
      "image/png": "[encoded data removed]",
      "text/plain": [
       "<Figure size 432x288 with 1 Axes>"
      ]
     },
     "metadata": {
      "needs_background": "light"
     },
     "output_type": "display_data"
    },
    {
     "name": "stdout",
     "output_type": "stream",
     "text": [
      "(28, 28)\n"
     ]
    },
    {
     "data": {
      "image/png": "[encoded data removed]",
      "text/plain": [
       "<Figure size 432x288 with 1 Axes>"
      ]
     },
     "metadata": {
      "needs_background": "light"
     },
     "output_type": "display_data"
    },
    {
     "name": "stdout",
     "output_type": "stream",
     "text": [
      "(28, 28)\n"
     ]
    },
    {
     "data": {
      "image/png": "[encoded data removed]",
      "text/plain": [
       "<Figure size 432x288 with 1 Axes>"
      ]
     },
     "metadata": {
      "needs_background": "light"
     },
     "output_type": "display_data"
    },
    {
     "name": "stdout",
     "output_type": "stream",
     "text": [
      "(28, 28)\n"
     ]
    },
    {
     "data": {
      "image/png": "[encoded data removed]",
      "text/plain": [
       "<Figure size 432x288 with 1 Axes>"
      ]
     },
     "metadata": {
      "needs_background": "light"
     },
     "output_type": "display_data"
    },
    {
     "name": "stdout",
     "output_type": "stream",
     "text": [
      "(28, 28)\n"
     ]
    },
    {
     "data": {
      "image/png": "[encoded data removed]",
      "text/plain": [
       "<Figure size 432x288 with 1 Axes>"
      ]
     },
     "metadata": {
      "needs_background": "light"
     },
     "output_type": "display_data"
    },
    {
     "name": "stdout",
     "output_type": "stream",
     "text": [
      "(28, 28)\n"
     ]
    },
    {
     "data": {
      "image/png": "[encoded data removed]",
      "text/plain": [
       "<Figure size 432x288 with 1 Axes>"
      ]
     },
     "metadata": {
      "needs_background": "light"
     },
     "output_type": "display_data"
    },
    {
     "name": "stdout",
     "output_type": "stream",
     "text": [
      "(28, 28)\n"
     ]
    },
    {
     "data": {
      "image/png": "[encoded data removed]",
      "text/plain": [
       "<Figure size 432x288 with 1 Axes>"
      ]
     },
     "metadata": {
      "needs_background": "light"
     },
     "output_type": "display_data"
    },
    {
     "name": "stdout",
     "output_type": "stream",
     "text": [
      "(28, 28)\n"
     ]
    },
    {
     "data": {
      "image/png": "[encoded data removed]",
      "text/plain": [
       "<Figure size 432x288 with 1 Axes>"
      ]
     },
     "metadata": {
      "needs_background": "light"
     },
     "output_type": "display_data"
    },
    {
     "name": "stdout",
     "output_type": "stream",
     "text": [
      "(28, 28)\n"
     ]
    },
    {
     "data": {
      "image/png": "[encoded data removed]",
      "text/plain": [
       "<Figure size 432x288 with 1 Axes>"
      ]
     },
     "metadata": {
      "needs_background": "light"
     },
     "output_type": "display_data"
    },
    {
     "name": "stdout",
     "output_type": "stream",
     "text": [
      "(28, 28)\n"
     ]
    },
    {
     "data": {
      "image/png": "[encoded data removed]",
      "text/plain": [
       "<Figure size 432x288 with 1 Axes>"
      ]
     },
     "metadata": {
      "needs_background": "light"
     },
     "output_type": "display_data"
    },
    {
     "name": "stdout",
     "output_type": "stream",
     "text": [
      "train error is: 2.30437118002717 at epoch= 3\n",
      "Accuracy: 0.2\n",
      "test error is: 2.2971288475863227 at epoch= 3\n"
     ]
    },
    {
     "data": {
      "image/png": "[encoded data removed]",
      "text/plain": [
       "<Figure size 432x288 with 1 Axes>"
      ]
     },
     "metadata": {
      "needs_background": "light"
     },
     "output_type": "display_data"
    },
    {
     "name": "stdout",
     "output_type": "stream",
     "text": [
      "(28, 28)\n"
     ]
    },
    {
     "data": {
      "image/png": "[encoded data removed]",
      "text/plain": [
       "<Figure size 432x288 with 1 Axes>"
      ]
     },
     "metadata": {
      "needs_background": "light"
     },
     "output_type": "display_data"
    },
    {
     "name": "stdout",
     "output_type": "stream",
     "text": [
      "(28, 28)\n"
     ]
    },
    {
     "data": {
      "image/png": "[encoded data removed]",
      "text/plain": [
       "<Figure size 432x288 with 1 Axes>"
      ]
     },
     "metadata": {
      "needs_background": "light"
     },
     "output_type": "display_data"
    },
    {
     "name": "stdout",
     "output_type": "stream",
     "text": [
      "(28, 28)\n"
     ]
    },
    {
     "data": {
      "image/png": "[encoded data removed]",
      "text/plain": [
       "<Figure size 432x288 with 1 Axes>"
      ]
     },
     "metadata": {
      "needs_background": "light"
     },
     "output_type": "display_data"
    },
    {
     "name": "stdout",
     "output_type": "stream",
     "text": [
      "(28, 28)\n"
     ]
    },
    {
     "data": {
      "image/png": "[encoded data removed]",
      "text/plain": [
       "<Figure size 432x288 with 1 Axes>"
      ]
     },
     "metadata": {
      "needs_background": "light"
     },
     "output_type": "display_data"
    },
    {
     "name": "stdout",
     "output_type": "stream",
     "text": [
      "(28, 28)\n"
     ]
    },
    {
     "data": {
      "image/png": "[encoded data removed]",
      "text/plain": [
       "<Figure size 432x288 with 1 Axes>"
      ]
     },
     "metadata": {
      "needs_background": "light"
     },
     "output_type": "display_data"
    },
    {
     "name": "stdout",
     "output_type": "stream",
     "text": [
      "(28, 28)\n"
     ]
    },
    {
     "data": {
      "image/png": "[encoded data removed]",
      "text/plain": [
       "<Figure size 432x288 with 1 Axes>"
      ]
     },
     "metadata": {
      "needs_background": "light"
     },
     "output_type": "display_data"
    },
    {
     "name": "stdout",
     "output_type": "stream",
     "text": [
      "(28, 28)\n"
     ]
    },
    {
     "data": {
      "image/png": "[encoded data removed]",
      "text/plain": [
       "<Figure size 432x288 with 1 Axes>"
      ]
     },
     "metadata": {
      "needs_background": "light"
     },
     "output_type": "display_data"
    },
    {
     "name": "stdout",
     "output_type": "stream",
     "text": [
      "(28, 28)\n"
     ]
    },
    {
     "data": {
      "image/png": "[encoded data removed]",
      "text/plain": [
       "<Figure size 432x288 with 1 Axes>"
      ]
     },
     "metadata": {
      "needs_background": "light"
     },
     "output_type": "display_data"
    },
    {
     "name": "stdout",
     "output_type": "stream",
     "text": [
      "(28, 28)\n"
     ]
    },
    {
     "data": {
      "image/png": "[encoded data removed]",
      "text/plain": [
       "<Figure size 432x288 with 1 Axes>"
      ]
     },
     "metadata": {
      "needs_background": "light"
     },
     "output_type": "display_data"
    },
    {
     "name": "stdout",
     "output_type": "stream",
     "text": [
      "(28, 28)\n"
     ]
    },
    {
     "data": {
      "image/png": "[encoded data removed]",
      "text/plain": [
       "<Figure size 432x288 with 1 Axes>"
      ]
     },
     "metadata": {
      "needs_background": "light"
     },
     "output_type": "display_data"
    },
    {
     "name": "stdout",
     "output_type": "stream",
     "text": [
      "train error is: 2.3046181237653767 at epoch= 4\n",
      "Accuracy: 0.2\n",
      "test error is: 2.296492729028116 at epoch= 4\n"
     ]
    },
    {
     "data": {
      "image/png": "[encoded data removed]",
      "text/plain": [
       "<Figure size 432x288 with 1 Axes>"
      ]
     },
     "metadata": {
      "needs_background": "light"
     },
     "output_type": "display_data"
    }
   ],
   "source": [
    "L1=5\n",
    "L2=5\n",
    "filter_count1=1\n",
    "\n",
    "filters1=np.random.normal(0.1,0.2,(filter_count1,L1,L1)) \n",
    "\n",
    "p=2\n",
    "\n",
    "L=1024\n",
    "M=128\n",
    "K=10\n",
    "\n",
    "alpham=np.random.normal(0,0.01,(L,M))\n",
    "alpham0=np.random.normal(0,0.01,M)\n",
    "betam=np.random.normal(0,0.01,(M,K))\n",
    "betam0=np.random.normal(0,0.01,K)\n",
    "\n",
    "N=len(Xtrain)\n",
    "N=10 ############################  To check the code, N is kept as 10\n",
    "epoch=5 ############################ and epoch is kept as 5\n",
    "lr1=1e-4\n",
    "lr2=2e-4\n",
    "\n",
    "train_errors=[]\n",
    "test_errors=[]\n",
    "\n",
    "for t in range(epoch):\n",
    "    for i in range(N):\n",
    "        I=Xtrain[i]\n",
    "        print(np.shape(I))\n",
    "        plt.imshow(I)\n",
    "        plt.show()\n",
    "        \n",
    "        O2=conv_layer(I,L1,filters1,s=2,padding=1,func=\"ReLU\",no_of_filters=filter_count1)\n",
    "        #print(np.shape(O2))\n",
    "        \n",
    "        O3=pool_layer(O2,p,s=2,padding=1,pool=\"Max\")\n",
    "        #print(np.shape(O3))\n",
    "        O3=np.swapaxes(O3,0,2)\n",
    "        #print(np.shape(O3))\n",
    "\n",
    "        \n",
    "        O3=np.array(O3)\n",
    "        X=unravelling(O3,L)\n",
    "\n",
    "        Z,T,Y=MLP_fwd_pass(X,alpham,alpham0,betam,betam0)\n",
    "        ytrain=np.array(ytrain.T)\n",
    "        #print(np.shape(ytrain))\n",
    "        \n",
    "        O2=np.swapaxes(O2,0,2)\n",
    "        col=len(O2[0])\n",
    "        #print('o2',np.shape(O2))\n",
    "        #print('i',np.shape(I))\n",
    "        for j in range(filter_count1):\n",
    "            for k in range(L1):\n",
    "                for l in range(L1):\n",
    "                    for q in range(K):\n",
    "                        filters1[j][k][l]-=lr1*-(ytrain[i][q]/Y[q])*dsig(np.sum(O2[int((q+1)/col)][(q+1)%col]))*I[int((q+1)/col)-k][((q+1)%col)-l]\n",
    "        \n",
    "\n",
    "        der_gk=np.sum(der_SoftMax(T),axis=0)\n",
    "        #print(np.shape(T),np.shape(der_gk))\n",
    "        for m in range(M):\n",
    "            for l in range(L):\n",
    "                for k in range(K):\n",
    "                    alpham[l][m]-=lr2*-(ytrain[i][k]/Y[k])*der_gk[k]*betam[m][k]*X[l]\n",
    "                    \n",
    "        for k in range(K):\n",
    "            for m in range(M):\n",
    "                betam[m][k]-=lr2*-(ytrain[i][k]/Y[k])*der_gk[k]*Z[m]\n",
    "                \n",
    "    # finding training error\n",
    "    train_error=0\n",
    "    for i in range(N):\n",
    "        I=Xtrain[i]\n",
    "#         print(np.shape(I))\n",
    "#         plt.imshow(I)\n",
    "#         plt.show()\n",
    "        \n",
    "        O2=conv_layer(I,L1,filters1,s=2,padding=1,func=\"ReLU\",no_of_filters=filter_count1)\n",
    "        #print(np.shape(O2))\n",
    "        \n",
    "        O3=pool_layer(O2,p,s=2,padding=1,pool=\"Max\")\n",
    "        \n",
    "        O3=np.array(O3)\n",
    "        X=unravelling(O3,L)\n",
    "\n",
    "        Z,T,Y=MLP_fwd_pass(X,alpham,alpham0,betam,betam0)\n",
    "        for k in range(K):\n",
    "            train_error+=-ytrain[i][k]*np.log(Y[k]) #cross entropy\n",
    "    print('train error is:',train_error/(N*1.0),'at epoch=',t)\n",
    "    train_errors.append(train_error)\n",
    "\n",
    "    # finding training error\n",
    "    test_error=0\n",
    "    accuracy=0\n",
    "    for i in range(N):\n",
    "        I=Xtest[i]\n",
    "#         print(np.shape(I))\n",
    "#         plt.imshow(I)\n",
    "#         plt.show()\n",
    "        \n",
    "        O2=conv_layer(I,L1,filters1,s=2,padding=1,func=\"ReLU\",no_of_filters=filter_count1)\n",
    "        #print(np.shape(O2))\n",
    "        \n",
    "        O3=pool_layer(O2,p,s=2,padding=1,pool=\"Max\")\n",
    "\n",
    "        O3=np.array(O3)\n",
    "        X=unravelling(O3,L)\n",
    "\n",
    "        Z,T,Y=MLP_fwd_pass(X,alpham,alpham0,betam,betam0)\n",
    "        maximum=0\n",
    "        ans1=0\n",
    "        ans2=0\n",
    "        for k in range(K):\n",
    "            test_error+=-ytest[i][k]*np.log(Y[k]) #cross entropy\n",
    "            if maximum<Y[k] :\n",
    "                ans1=k\n",
    "                maximum=Y[k]\n",
    "        for k in range(K):\n",
    "            if ytest[i][k]==1:\n",
    "                ans2=k\n",
    "        if ans1==ans2:\n",
    "            accuracy+=1\n",
    "    \n",
    "    print(\"Accuracy:\",accuracy/(N*1.0))\n",
    "    print('test error is:',test_error/(N*1.0),'at epoch=',t)\n",
    "    test_errors.append(test_error)\n",
    "    plt.imshow(filters1[0])\n",
    "    plt.show()\n",
    "\n"
   ]
  },
  {
   "cell_type": "markdown",
   "metadata": {},
   "source": [
    "The train error, test error and accuracy are reported at the end of each epoch. \n",
    "Initially, the filter looks random. But as the epochs passes, the filters tend to identify the local patterns."
   ]
  },
  {
   "cell_type": "code",
   "execution_count": 24,
   "metadata": {},
   "outputs": [
    {
     "data": {
      "image/png": "[encoded data removed]",
      "text/plain": [
       "<Figure size 432x288 with 1 Axes>"
      ]
     },
     "metadata": {
      "needs_background": "light"
     },
     "output_type": "display_data"
    }
   ],
   "source": [
    "plt.plot(range(epoch),test_errors,label='Test error')\n",
    "plt.plot(range(epoch),train_errors,label='Train error')\n",
    "plt.legend()\n",
    "plt.show()"
   ]
  },
  {
   "cell_type": "markdown",
   "metadata": {},
   "source": [
    "If you want to train with more train samples and for more time, please change the values of N and epoch.\n",
    "As you can see, the training error decreases with epochs. Since the value of N we took was just 10, \n",
    "the model was trained on just 10 samples. No wonder, the testing error is not decreasing.\n",
    "Since it took much time for training, the statistics shown below \n",
    "were noted for a low value of N and a single convolutional layer with only one filter per layer"
   ]
  },
  {
   "cell_type": "code",
   "execution_count": null,
   "metadata": {},
   "outputs": [],
   "source": []
  }
 ],
 "metadata": {
  "kernelspec": {
   "display_name": "Python 3",
   "language": "python",
   "name": "python3"
  },
  "language_info": {
   "codemirror_mode": {
    "name": "ipython",
    "version": 3
   },
   "file_extension": ".py",
   "mimetype": "text/x-python",
   "name": "python",
   "nbconvert_exporter": "python",
   "pygments_lexer": "ipython3",
   "version": "3.4.3"
  }
 },
 "nbformat": 4,
 "nbformat_minor": 2
}
